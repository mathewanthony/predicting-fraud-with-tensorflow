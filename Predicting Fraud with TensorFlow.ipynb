{
  "nbformat": 4,
  "nbformat_minor": 0,
  "metadata": {
    "colab": {
      "provenance": []
    },
    "kernelspec": {
      "name": "python3",
      "display_name": "Python 3"
    },
    "language_info": {
      "name": "python"
    }
  },
  "cells": [
    {
      "cell_type": "markdown",
      "source": [
        "Predicting Fraud with TensorFlow\n",
        "---\n",
        "\n",
        "Predicting credit card fraud in the transactional data is the aim of this analysis. Tensorflow will be used by me to construct the prediction model.\n"
      ],
      "metadata": {
        "id": "xXCePUbE7L1n"
      }
    },
    {
      "cell_type": "markdown",
      "source": [
        "Dataset link:\n",
        "https://www.kaggle.com/datasets/mlg-ulb/creditcardfraud"
      ],
      "metadata": {
        "id": "ulKMXjEC7Qv5"
      }
    },
    {
      "cell_type": "markdown",
      "source": [
        "Importing the necessary libraries"
      ],
      "metadata": {
        "id": "DawnBTcZ-Rx9"
      }
    },
    {
      "cell_type": "code",
      "source": [
        "# Import necessary libraries\n",
        "import pandas as pd\n",
        "import numpy as np\n",
        "import seaborn as sns\n",
        "import matplotlib.pyplot as plt\n",
        "import tensorflow as tf\n",
        "\n",
        "from sklearn.model_selection import train_test_split\n",
        "from sklearn.preprocessing import StandardScaler\n",
        "from tensorflow import keras\n",
        "from tensorflow.keras import Sequential\n",
        "from tensorflow.keras.layers import Flatten, Dense, Dropout, BatchNormalization\n",
        "from tensorflow.keras.layers import Conv1D, MaxPool1D\n",
        "from tensorflow.keras.optimizers import Adam"
      ],
      "metadata": {
        "id": "1dkoD2gvKk3r"
      },
      "execution_count": 17,
      "outputs": []
    },
    {
      "cell_type": "markdown",
      "source": [
        "Load the dataset"
      ],
      "metadata": {
        "id": "T7k7T1sVKtZR"
      }
    },
    {
      "cell_type": "code",
      "source": [
        "# Load the dataset\n",
        "df = pd.read_csv('/content/creditcard[1].csv')"
      ],
      "metadata": {
        "id": "z7bjz1uNKvkO"
      },
      "execution_count": 18,
      "outputs": []
    },
    {
      "cell_type": "code",
      "source": [
        "# Display the first few rows of the dataset\n",
        "df.head()"
      ],
      "metadata": {
        "colab": {
          "base_uri": "https://localhost:8080/",
          "height": 255
        },
        "id": "AebWbFc3K4N7",
        "outputId": "6e5e2449-11b1-411f-df76-4b30f801b272"
      },
      "execution_count": 19,
      "outputs": [
        {
          "output_type": "execute_result",
          "data": {
            "text/plain": [
              "   Time        V1        V2        V3        V4        V5        V6        V7  \\\n",
              "0     0 -1.359807 -0.072781  2.536347  1.378155 -0.338321  0.462388  0.239599   \n",
              "1     0  1.191857  0.266151  0.166480  0.448154  0.060018 -0.082361 -0.078803   \n",
              "2     1 -1.358354 -1.340163  1.773209  0.379780 -0.503198  1.800499  0.791461   \n",
              "3     1 -0.966272 -0.185226  1.792993 -0.863291 -0.010309  1.247203  0.237609   \n",
              "4     2 -1.158233  0.877737  1.548718  0.403034 -0.407193  0.095921  0.592941   \n",
              "\n",
              "         V8        V9  ...       V21       V22       V23       V24       V25  \\\n",
              "0  0.098698  0.363787  ... -0.018307  0.277838 -0.110474  0.066928  0.128539   \n",
              "1  0.085102 -0.255425  ... -0.225775 -0.638672  0.101288 -0.339846  0.167170   \n",
              "2  0.247676 -1.514654  ...  0.247998  0.771679  0.909412 -0.689281 -0.327642   \n",
              "3  0.377436 -1.387024  ... -0.108300  0.005274 -0.190321 -1.175575  0.647376   \n",
              "4 -0.270533  0.817739  ... -0.009431  0.798278 -0.137458  0.141267 -0.206010   \n",
              "\n",
              "        V26       V27       V28  Amount  Class  \n",
              "0 -0.189115  0.133558 -0.021053  149.62    0.0  \n",
              "1  0.125895 -0.008983  0.014724    2.69    0.0  \n",
              "2 -0.139097 -0.055353 -0.059752  378.66    0.0  \n",
              "3 -0.221929  0.062723  0.061458  123.50    0.0  \n",
              "4  0.502292  0.219422  0.215153   69.99    0.0  \n",
              "\n",
              "[5 rows x 31 columns]"
            ],
            "text/html": [
              "\n",
              "  <div id=\"df-df23acf9-113b-4578-b355-ac43c362e030\" class=\"colab-df-container\">\n",
              "    <div>\n",
              "<style scoped>\n",
              "    .dataframe tbody tr th:only-of-type {\n",
              "        vertical-align: middle;\n",
              "    }\n",
              "\n",
              "    .dataframe tbody tr th {\n",
              "        vertical-align: top;\n",
              "    }\n",
              "\n",
              "    .dataframe thead th {\n",
              "        text-align: right;\n",
              "    }\n",
              "</style>\n",
              "<table border=\"1\" class=\"dataframe\">\n",
              "  <thead>\n",
              "    <tr style=\"text-align: right;\">\n",
              "      <th></th>\n",
              "      <th>Time</th>\n",
              "      <th>V1</th>\n",
              "      <th>V2</th>\n",
              "      <th>V3</th>\n",
              "      <th>V4</th>\n",
              "      <th>V5</th>\n",
              "      <th>V6</th>\n",
              "      <th>V7</th>\n",
              "      <th>V8</th>\n",
              "      <th>V9</th>\n",
              "      <th>...</th>\n",
              "      <th>V21</th>\n",
              "      <th>V22</th>\n",
              "      <th>V23</th>\n",
              "      <th>V24</th>\n",
              "      <th>V25</th>\n",
              "      <th>V26</th>\n",
              "      <th>V27</th>\n",
              "      <th>V28</th>\n",
              "      <th>Amount</th>\n",
              "      <th>Class</th>\n",
              "    </tr>\n",
              "  </thead>\n",
              "  <tbody>\n",
              "    <tr>\n",
              "      <th>0</th>\n",
              "      <td>0</td>\n",
              "      <td>-1.359807</td>\n",
              "      <td>-0.072781</td>\n",
              "      <td>2.536347</td>\n",
              "      <td>1.378155</td>\n",
              "      <td>-0.338321</td>\n",
              "      <td>0.462388</td>\n",
              "      <td>0.239599</td>\n",
              "      <td>0.098698</td>\n",
              "      <td>0.363787</td>\n",
              "      <td>...</td>\n",
              "      <td>-0.018307</td>\n",
              "      <td>0.277838</td>\n",
              "      <td>-0.110474</td>\n",
              "      <td>0.066928</td>\n",
              "      <td>0.128539</td>\n",
              "      <td>-0.189115</td>\n",
              "      <td>0.133558</td>\n",
              "      <td>-0.021053</td>\n",
              "      <td>149.62</td>\n",
              "      <td>0.0</td>\n",
              "    </tr>\n",
              "    <tr>\n",
              "      <th>1</th>\n",
              "      <td>0</td>\n",
              "      <td>1.191857</td>\n",
              "      <td>0.266151</td>\n",
              "      <td>0.166480</td>\n",
              "      <td>0.448154</td>\n",
              "      <td>0.060018</td>\n",
              "      <td>-0.082361</td>\n",
              "      <td>-0.078803</td>\n",
              "      <td>0.085102</td>\n",
              "      <td>-0.255425</td>\n",
              "      <td>...</td>\n",
              "      <td>-0.225775</td>\n",
              "      <td>-0.638672</td>\n",
              "      <td>0.101288</td>\n",
              "      <td>-0.339846</td>\n",
              "      <td>0.167170</td>\n",
              "      <td>0.125895</td>\n",
              "      <td>-0.008983</td>\n",
              "      <td>0.014724</td>\n",
              "      <td>2.69</td>\n",
              "      <td>0.0</td>\n",
              "    </tr>\n",
              "    <tr>\n",
              "      <th>2</th>\n",
              "      <td>1</td>\n",
              "      <td>-1.358354</td>\n",
              "      <td>-1.340163</td>\n",
              "      <td>1.773209</td>\n",
              "      <td>0.379780</td>\n",
              "      <td>-0.503198</td>\n",
              "      <td>1.800499</td>\n",
              "      <td>0.791461</td>\n",
              "      <td>0.247676</td>\n",
              "      <td>-1.514654</td>\n",
              "      <td>...</td>\n",
              "      <td>0.247998</td>\n",
              "      <td>0.771679</td>\n",
              "      <td>0.909412</td>\n",
              "      <td>-0.689281</td>\n",
              "      <td>-0.327642</td>\n",
              "      <td>-0.139097</td>\n",
              "      <td>-0.055353</td>\n",
              "      <td>-0.059752</td>\n",
              "      <td>378.66</td>\n",
              "      <td>0.0</td>\n",
              "    </tr>\n",
              "    <tr>\n",
              "      <th>3</th>\n",
              "      <td>1</td>\n",
              "      <td>-0.966272</td>\n",
              "      <td>-0.185226</td>\n",
              "      <td>1.792993</td>\n",
              "      <td>-0.863291</td>\n",
              "      <td>-0.010309</td>\n",
              "      <td>1.247203</td>\n",
              "      <td>0.237609</td>\n",
              "      <td>0.377436</td>\n",
              "      <td>-1.387024</td>\n",
              "      <td>...</td>\n",
              "      <td>-0.108300</td>\n",
              "      <td>0.005274</td>\n",
              "      <td>-0.190321</td>\n",
              "      <td>-1.175575</td>\n",
              "      <td>0.647376</td>\n",
              "      <td>-0.221929</td>\n",
              "      <td>0.062723</td>\n",
              "      <td>0.061458</td>\n",
              "      <td>123.50</td>\n",
              "      <td>0.0</td>\n",
              "    </tr>\n",
              "    <tr>\n",
              "      <th>4</th>\n",
              "      <td>2</td>\n",
              "      <td>-1.158233</td>\n",
              "      <td>0.877737</td>\n",
              "      <td>1.548718</td>\n",
              "      <td>0.403034</td>\n",
              "      <td>-0.407193</td>\n",
              "      <td>0.095921</td>\n",
              "      <td>0.592941</td>\n",
              "      <td>-0.270533</td>\n",
              "      <td>0.817739</td>\n",
              "      <td>...</td>\n",
              "      <td>-0.009431</td>\n",
              "      <td>0.798278</td>\n",
              "      <td>-0.137458</td>\n",
              "      <td>0.141267</td>\n",
              "      <td>-0.206010</td>\n",
              "      <td>0.502292</td>\n",
              "      <td>0.219422</td>\n",
              "      <td>0.215153</td>\n",
              "      <td>69.99</td>\n",
              "      <td>0.0</td>\n",
              "    </tr>\n",
              "  </tbody>\n",
              "</table>\n",
              "<p>5 rows × 31 columns</p>\n",
              "</div>\n",
              "    <div class=\"colab-df-buttons\">\n",
              "\n",
              "  <div class=\"colab-df-container\">\n",
              "    <button class=\"colab-df-convert\" onclick=\"convertToInteractive('df-df23acf9-113b-4578-b355-ac43c362e030')\"\n",
              "            title=\"Convert this dataframe to an interactive table.\"\n",
              "            style=\"display:none;\">\n",
              "\n",
              "  <svg xmlns=\"http://www.w3.org/2000/svg\" height=\"24px\" viewBox=\"0 -960 960 960\">\n",
              "    <path d=\"M120-120v-720h720v720H120Zm60-500h600v-160H180v160Zm220 220h160v-160H400v160Zm0 220h160v-160H400v160ZM180-400h160v-160H180v160Zm440 0h160v-160H620v160ZM180-180h160v-160H180v160Zm440 0h160v-160H620v160Z\"/>\n",
              "  </svg>\n",
              "    </button>\n",
              "\n",
              "  <style>\n",
              "    .colab-df-container {\n",
              "      display:flex;\n",
              "      gap: 12px;\n",
              "    }\n",
              "\n",
              "    .colab-df-convert {\n",
              "      background-color: #E8F0FE;\n",
              "      border: none;\n",
              "      border-radius: 50%;\n",
              "      cursor: pointer;\n",
              "      display: none;\n",
              "      fill: #1967D2;\n",
              "      height: 32px;\n",
              "      padding: 0 0 0 0;\n",
              "      width: 32px;\n",
              "    }\n",
              "\n",
              "    .colab-df-convert:hover {\n",
              "      background-color: #E2EBFA;\n",
              "      box-shadow: 0px 1px 2px rgba(60, 64, 67, 0.3), 0px 1px 3px 1px rgba(60, 64, 67, 0.15);\n",
              "      fill: #174EA6;\n",
              "    }\n",
              "\n",
              "    .colab-df-buttons div {\n",
              "      margin-bottom: 4px;\n",
              "    }\n",
              "\n",
              "    [theme=dark] .colab-df-convert {\n",
              "      background-color: #3B4455;\n",
              "      fill: #D2E3FC;\n",
              "    }\n",
              "\n",
              "    [theme=dark] .colab-df-convert:hover {\n",
              "      background-color: #434B5C;\n",
              "      box-shadow: 0px 1px 3px 1px rgba(0, 0, 0, 0.15);\n",
              "      filter: drop-shadow(0px 1px 2px rgba(0, 0, 0, 0.3));\n",
              "      fill: #FFFFFF;\n",
              "    }\n",
              "  </style>\n",
              "\n",
              "    <script>\n",
              "      const buttonEl =\n",
              "        document.querySelector('#df-df23acf9-113b-4578-b355-ac43c362e030 button.colab-df-convert');\n",
              "      buttonEl.style.display =\n",
              "        google.colab.kernel.accessAllowed ? 'block' : 'none';\n",
              "\n",
              "      async function convertToInteractive(key) {\n",
              "        const element = document.querySelector('#df-df23acf9-113b-4578-b355-ac43c362e030');\n",
              "        const dataTable =\n",
              "          await google.colab.kernel.invokeFunction('convertToInteractive',\n",
              "                                                    [key], {});\n",
              "        if (!dataTable) return;\n",
              "\n",
              "        const docLinkHtml = 'Like what you see? Visit the ' +\n",
              "          '<a target=\"_blank\" href=https://colab.research.google.com/notebooks/data_table.ipynb>data table notebook</a>'\n",
              "          + ' to learn more about interactive tables.';\n",
              "        element.innerHTML = '';\n",
              "        dataTable['output_type'] = 'display_data';\n",
              "        await google.colab.output.renderOutput(dataTable, element);\n",
              "        const docLink = document.createElement('div');\n",
              "        docLink.innerHTML = docLinkHtml;\n",
              "        element.appendChild(docLink);\n",
              "      }\n",
              "    </script>\n",
              "  </div>\n",
              "\n",
              "\n",
              "<div id=\"df-8d6f4953-a006-47b8-b15e-c17e3941155f\">\n",
              "  <button class=\"colab-df-quickchart\" onclick=\"quickchart('df-8d6f4953-a006-47b8-b15e-c17e3941155f')\"\n",
              "            title=\"Suggest charts\"\n",
              "            style=\"display:none;\">\n",
              "\n",
              "<svg xmlns=\"http://www.w3.org/2000/svg\" height=\"24px\"viewBox=\"0 0 24 24\"\n",
              "     width=\"24px\">\n",
              "    <g>\n",
              "        <path d=\"M19 3H5c-1.1 0-2 .9-2 2v14c0 1.1.9 2 2 2h14c1.1 0 2-.9 2-2V5c0-1.1-.9-2-2-2zM9 17H7v-7h2v7zm4 0h-2V7h2v10zm4 0h-2v-4h2v4z\"/>\n",
              "    </g>\n",
              "</svg>\n",
              "  </button>\n",
              "\n",
              "<style>\n",
              "  .colab-df-quickchart {\n",
              "      --bg-color: #E8F0FE;\n",
              "      --fill-color: #1967D2;\n",
              "      --hover-bg-color: #E2EBFA;\n",
              "      --hover-fill-color: #174EA6;\n",
              "      --disabled-fill-color: #AAA;\n",
              "      --disabled-bg-color: #DDD;\n",
              "  }\n",
              "\n",
              "  [theme=dark] .colab-df-quickchart {\n",
              "      --bg-color: #3B4455;\n",
              "      --fill-color: #D2E3FC;\n",
              "      --hover-bg-color: #434B5C;\n",
              "      --hover-fill-color: #FFFFFF;\n",
              "      --disabled-bg-color: #3B4455;\n",
              "      --disabled-fill-color: #666;\n",
              "  }\n",
              "\n",
              "  .colab-df-quickchart {\n",
              "    background-color: var(--bg-color);\n",
              "    border: none;\n",
              "    border-radius: 50%;\n",
              "    cursor: pointer;\n",
              "    display: none;\n",
              "    fill: var(--fill-color);\n",
              "    height: 32px;\n",
              "    padding: 0;\n",
              "    width: 32px;\n",
              "  }\n",
              "\n",
              "  .colab-df-quickchart:hover {\n",
              "    background-color: var(--hover-bg-color);\n",
              "    box-shadow: 0 1px 2px rgba(60, 64, 67, 0.3), 0 1px 3px 1px rgba(60, 64, 67, 0.15);\n",
              "    fill: var(--button-hover-fill-color);\n",
              "  }\n",
              "\n",
              "  .colab-df-quickchart-complete:disabled,\n",
              "  .colab-df-quickchart-complete:disabled:hover {\n",
              "    background-color: var(--disabled-bg-color);\n",
              "    fill: var(--disabled-fill-color);\n",
              "    box-shadow: none;\n",
              "  }\n",
              "\n",
              "  .colab-df-spinner {\n",
              "    border: 2px solid var(--fill-color);\n",
              "    border-color: transparent;\n",
              "    border-bottom-color: var(--fill-color);\n",
              "    animation:\n",
              "      spin 1s steps(1) infinite;\n",
              "  }\n",
              "\n",
              "  @keyframes spin {\n",
              "    0% {\n",
              "      border-color: transparent;\n",
              "      border-bottom-color: var(--fill-color);\n",
              "      border-left-color: var(--fill-color);\n",
              "    }\n",
              "    20% {\n",
              "      border-color: transparent;\n",
              "      border-left-color: var(--fill-color);\n",
              "      border-top-color: var(--fill-color);\n",
              "    }\n",
              "    30% {\n",
              "      border-color: transparent;\n",
              "      border-left-color: var(--fill-color);\n",
              "      border-top-color: var(--fill-color);\n",
              "      border-right-color: var(--fill-color);\n",
              "    }\n",
              "    40% {\n",
              "      border-color: transparent;\n",
              "      border-right-color: var(--fill-color);\n",
              "      border-top-color: var(--fill-color);\n",
              "    }\n",
              "    60% {\n",
              "      border-color: transparent;\n",
              "      border-right-color: var(--fill-color);\n",
              "    }\n",
              "    80% {\n",
              "      border-color: transparent;\n",
              "      border-right-color: var(--fill-color);\n",
              "      border-bottom-color: var(--fill-color);\n",
              "    }\n",
              "    90% {\n",
              "      border-color: transparent;\n",
              "      border-bottom-color: var(--fill-color);\n",
              "    }\n",
              "  }\n",
              "</style>\n",
              "\n",
              "  <script>\n",
              "    async function quickchart(key) {\n",
              "      const quickchartButtonEl =\n",
              "        document.querySelector('#' + key + ' button');\n",
              "      quickchartButtonEl.disabled = true;  // To prevent multiple clicks.\n",
              "      quickchartButtonEl.classList.add('colab-df-spinner');\n",
              "      try {\n",
              "        const charts = await google.colab.kernel.invokeFunction(\n",
              "            'suggestCharts', [key], {});\n",
              "      } catch (error) {\n",
              "        console.error('Error during call to suggestCharts:', error);\n",
              "      }\n",
              "      quickchartButtonEl.classList.remove('colab-df-spinner');\n",
              "      quickchartButtonEl.classList.add('colab-df-quickchart-complete');\n",
              "    }\n",
              "    (() => {\n",
              "      let quickchartButtonEl =\n",
              "        document.querySelector('#df-8d6f4953-a006-47b8-b15e-c17e3941155f button');\n",
              "      quickchartButtonEl.style.display =\n",
              "        google.colab.kernel.accessAllowed ? 'block' : 'none';\n",
              "    })();\n",
              "  </script>\n",
              "</div>\n",
              "\n",
              "    </div>\n",
              "  </div>\n"
            ]
          },
          "metadata": {},
          "execution_count": 19
        }
      ]
    },
    {
      "cell_type": "code",
      "source": [
        "# Display the shape of the dataset\n",
        "df.shape"
      ],
      "metadata": {
        "colab": {
          "base_uri": "https://localhost:8080/"
        },
        "id": "PZ0jDHW8K8bW",
        "outputId": "ac3d3372-ee6d-4852-a1eb-eb0613cc11ed"
      },
      "execution_count": 21,
      "outputs": [
        {
          "output_type": "execute_result",
          "data": {
            "text/plain": [
              "(11959, 31)"
            ]
          },
          "metadata": {},
          "execution_count": 21
        }
      ]
    },
    {
      "cell_type": "code",
      "source": [
        "# Display descriptive statistics of the DataFrame\n",
        "df.describe()"
      ],
      "metadata": {
        "colab": {
          "base_uri": "https://localhost:8080/",
          "height": 349
        },
        "id": "zUFbsrJzLTtV",
        "outputId": "91098cde-b387-4454-e92c-ea10b24c701b"
      },
      "execution_count": 24,
      "outputs": [
        {
          "output_type": "execute_result",
          "data": {
            "text/plain": [
              "               Time            V1            V2            V3            V4  \\\n",
              "count  11959.000000  11959.000000  11959.000000  11959.000000  11959.000000   \n",
              "mean    8009.996822     -0.216230      0.277097      0.889505      0.282606   \n",
              "std     6204.332248      1.583914      1.308884      1.331824      1.478162   \n",
              "min        0.000000    -27.670569    -34.607649    -22.804686     -4.657545   \n",
              "25%     2542.000000     -0.978944     -0.261503      0.417186     -0.622456   \n",
              "50%     6662.000000     -0.340742      0.256346      0.951223      0.213029   \n",
              "75%    12382.000000      1.161273      0.883626      1.613678      1.159141   \n",
              "max    20642.000000      1.960497      9.092123      4.101716     11.927512   \n",
              "\n",
              "                 V5            V6            V7            V8            V9  \\\n",
              "count  11959.000000  11959.000000  11959.000000  11959.000000  11959.000000   \n",
              "mean      -0.086585      0.139986     -0.121943     -0.048727      0.911579   \n",
              "std        1.191776      1.306285      1.153899      1.246823      1.192349   \n",
              "min      -32.092129    -23.496714    -26.548144    -23.632502     -7.175097   \n",
              "25%       -0.688114     -0.622521     -0.591335     -0.185243      0.196741   \n",
              "50%       -0.183847     -0.146903     -0.094876      0.013616      0.894911   \n",
              "75%        0.346298      0.508432      0.431657      0.267560      1.589120   \n",
              "max       34.099309     21.393069     34.303177      5.499963     10.392889   \n",
              "\n",
              "       ...           V21           V22           V23           V24  \\\n",
              "count  ...  11958.000000  11958.000000  11958.000000  11958.000000   \n",
              "mean   ...     -0.061474     -0.153850     -0.033709      0.017113   \n",
              "std    ...      0.918705      0.626631      0.505355      0.591394   \n",
              "min    ...    -11.468435     -8.593642    -19.254328     -2.512377   \n",
              "25%    ...     -0.268151     -0.543613     -0.171833     -0.333251   \n",
              "50%    ...     -0.130062     -0.124900     -0.044299      0.072099   \n",
              "75%    ...      0.021687      0.234029      0.075686      0.401798   \n",
              "max    ...     22.614889      4.534454     13.876221      3.200201   \n",
              "\n",
              "                V25           V26           V27           V28        Amount  \\\n",
              "count  11958.000000  11958.000000  11958.000000  11958.000000  11958.000000   \n",
              "mean       0.104794      0.062891      0.008320      0.000271     62.352617   \n",
              "std        0.429413      0.561603      0.405100      0.261230    178.247010   \n",
              "min       -4.781606     -1.338556     -7.976100     -3.575312      0.000000   \n",
              "25%       -0.144092     -0.353864     -0.080064     -0.015461      5.000000   \n",
              "50%        0.143136      0.001972     -0.003039      0.015452     15.950000   \n",
              "75%        0.380076      0.409231      0.106344      0.073171     50.000000   \n",
              "max        5.525093      3.517346      8.254376      4.860769   7712.430000   \n",
              "\n",
              "              Class  \n",
              "count  11958.000000  \n",
              "mean       0.004349  \n",
              "std        0.065803  \n",
              "min        0.000000  \n",
              "25%        0.000000  \n",
              "50%        0.000000  \n",
              "75%        0.000000  \n",
              "max        1.000000  \n",
              "\n",
              "[8 rows x 31 columns]"
            ],
            "text/html": [
              "\n",
              "  <div id=\"df-1ae139ea-a520-4d91-966a-ce6d26a14167\" class=\"colab-df-container\">\n",
              "    <div>\n",
              "<style scoped>\n",
              "    .dataframe tbody tr th:only-of-type {\n",
              "        vertical-align: middle;\n",
              "    }\n",
              "\n",
              "    .dataframe tbody tr th {\n",
              "        vertical-align: top;\n",
              "    }\n",
              "\n",
              "    .dataframe thead th {\n",
              "        text-align: right;\n",
              "    }\n",
              "</style>\n",
              "<table border=\"1\" class=\"dataframe\">\n",
              "  <thead>\n",
              "    <tr style=\"text-align: right;\">\n",
              "      <th></th>\n",
              "      <th>Time</th>\n",
              "      <th>V1</th>\n",
              "      <th>V2</th>\n",
              "      <th>V3</th>\n",
              "      <th>V4</th>\n",
              "      <th>V5</th>\n",
              "      <th>V6</th>\n",
              "      <th>V7</th>\n",
              "      <th>V8</th>\n",
              "      <th>V9</th>\n",
              "      <th>...</th>\n",
              "      <th>V21</th>\n",
              "      <th>V22</th>\n",
              "      <th>V23</th>\n",
              "      <th>V24</th>\n",
              "      <th>V25</th>\n",
              "      <th>V26</th>\n",
              "      <th>V27</th>\n",
              "      <th>V28</th>\n",
              "      <th>Amount</th>\n",
              "      <th>Class</th>\n",
              "    </tr>\n",
              "  </thead>\n",
              "  <tbody>\n",
              "    <tr>\n",
              "      <th>count</th>\n",
              "      <td>11959.000000</td>\n",
              "      <td>11959.000000</td>\n",
              "      <td>11959.000000</td>\n",
              "      <td>11959.000000</td>\n",
              "      <td>11959.000000</td>\n",
              "      <td>11959.000000</td>\n",
              "      <td>11959.000000</td>\n",
              "      <td>11959.000000</td>\n",
              "      <td>11959.000000</td>\n",
              "      <td>11959.000000</td>\n",
              "      <td>...</td>\n",
              "      <td>11958.000000</td>\n",
              "      <td>11958.000000</td>\n",
              "      <td>11958.000000</td>\n",
              "      <td>11958.000000</td>\n",
              "      <td>11958.000000</td>\n",
              "      <td>11958.000000</td>\n",
              "      <td>11958.000000</td>\n",
              "      <td>11958.000000</td>\n",
              "      <td>11958.000000</td>\n",
              "      <td>11958.000000</td>\n",
              "    </tr>\n",
              "    <tr>\n",
              "      <th>mean</th>\n",
              "      <td>8009.996822</td>\n",
              "      <td>-0.216230</td>\n",
              "      <td>0.277097</td>\n",
              "      <td>0.889505</td>\n",
              "      <td>0.282606</td>\n",
              "      <td>-0.086585</td>\n",
              "      <td>0.139986</td>\n",
              "      <td>-0.121943</td>\n",
              "      <td>-0.048727</td>\n",
              "      <td>0.911579</td>\n",
              "      <td>...</td>\n",
              "      <td>-0.061474</td>\n",
              "      <td>-0.153850</td>\n",
              "      <td>-0.033709</td>\n",
              "      <td>0.017113</td>\n",
              "      <td>0.104794</td>\n",
              "      <td>0.062891</td>\n",
              "      <td>0.008320</td>\n",
              "      <td>0.000271</td>\n",
              "      <td>62.352617</td>\n",
              "      <td>0.004349</td>\n",
              "    </tr>\n",
              "    <tr>\n",
              "      <th>std</th>\n",
              "      <td>6204.332248</td>\n",
              "      <td>1.583914</td>\n",
              "      <td>1.308884</td>\n",
              "      <td>1.331824</td>\n",
              "      <td>1.478162</td>\n",
              "      <td>1.191776</td>\n",
              "      <td>1.306285</td>\n",
              "      <td>1.153899</td>\n",
              "      <td>1.246823</td>\n",
              "      <td>1.192349</td>\n",
              "      <td>...</td>\n",
              "      <td>0.918705</td>\n",
              "      <td>0.626631</td>\n",
              "      <td>0.505355</td>\n",
              "      <td>0.591394</td>\n",
              "      <td>0.429413</td>\n",
              "      <td>0.561603</td>\n",
              "      <td>0.405100</td>\n",
              "      <td>0.261230</td>\n",
              "      <td>178.247010</td>\n",
              "      <td>0.065803</td>\n",
              "    </tr>\n",
              "    <tr>\n",
              "      <th>min</th>\n",
              "      <td>0.000000</td>\n",
              "      <td>-27.670569</td>\n",
              "      <td>-34.607649</td>\n",
              "      <td>-22.804686</td>\n",
              "      <td>-4.657545</td>\n",
              "      <td>-32.092129</td>\n",
              "      <td>-23.496714</td>\n",
              "      <td>-26.548144</td>\n",
              "      <td>-23.632502</td>\n",
              "      <td>-7.175097</td>\n",
              "      <td>...</td>\n",
              "      <td>-11.468435</td>\n",
              "      <td>-8.593642</td>\n",
              "      <td>-19.254328</td>\n",
              "      <td>-2.512377</td>\n",
              "      <td>-4.781606</td>\n",
              "      <td>-1.338556</td>\n",
              "      <td>-7.976100</td>\n",
              "      <td>-3.575312</td>\n",
              "      <td>0.000000</td>\n",
              "      <td>0.000000</td>\n",
              "    </tr>\n",
              "    <tr>\n",
              "      <th>25%</th>\n",
              "      <td>2542.000000</td>\n",
              "      <td>-0.978944</td>\n",
              "      <td>-0.261503</td>\n",
              "      <td>0.417186</td>\n",
              "      <td>-0.622456</td>\n",
              "      <td>-0.688114</td>\n",
              "      <td>-0.622521</td>\n",
              "      <td>-0.591335</td>\n",
              "      <td>-0.185243</td>\n",
              "      <td>0.196741</td>\n",
              "      <td>...</td>\n",
              "      <td>-0.268151</td>\n",
              "      <td>-0.543613</td>\n",
              "      <td>-0.171833</td>\n",
              "      <td>-0.333251</td>\n",
              "      <td>-0.144092</td>\n",
              "      <td>-0.353864</td>\n",
              "      <td>-0.080064</td>\n",
              "      <td>-0.015461</td>\n",
              "      <td>5.000000</td>\n",
              "      <td>0.000000</td>\n",
              "    </tr>\n",
              "    <tr>\n",
              "      <th>50%</th>\n",
              "      <td>6662.000000</td>\n",
              "      <td>-0.340742</td>\n",
              "      <td>0.256346</td>\n",
              "      <td>0.951223</td>\n",
              "      <td>0.213029</td>\n",
              "      <td>-0.183847</td>\n",
              "      <td>-0.146903</td>\n",
              "      <td>-0.094876</td>\n",
              "      <td>0.013616</td>\n",
              "      <td>0.894911</td>\n",
              "      <td>...</td>\n",
              "      <td>-0.130062</td>\n",
              "      <td>-0.124900</td>\n",
              "      <td>-0.044299</td>\n",
              "      <td>0.072099</td>\n",
              "      <td>0.143136</td>\n",
              "      <td>0.001972</td>\n",
              "      <td>-0.003039</td>\n",
              "      <td>0.015452</td>\n",
              "      <td>15.950000</td>\n",
              "      <td>0.000000</td>\n",
              "    </tr>\n",
              "    <tr>\n",
              "      <th>75%</th>\n",
              "      <td>12382.000000</td>\n",
              "      <td>1.161273</td>\n",
              "      <td>0.883626</td>\n",
              "      <td>1.613678</td>\n",
              "      <td>1.159141</td>\n",
              "      <td>0.346298</td>\n",
              "      <td>0.508432</td>\n",
              "      <td>0.431657</td>\n",
              "      <td>0.267560</td>\n",
              "      <td>1.589120</td>\n",
              "      <td>...</td>\n",
              "      <td>0.021687</td>\n",
              "      <td>0.234029</td>\n",
              "      <td>0.075686</td>\n",
              "      <td>0.401798</td>\n",
              "      <td>0.380076</td>\n",
              "      <td>0.409231</td>\n",
              "      <td>0.106344</td>\n",
              "      <td>0.073171</td>\n",
              "      <td>50.000000</td>\n",
              "      <td>0.000000</td>\n",
              "    </tr>\n",
              "    <tr>\n",
              "      <th>max</th>\n",
              "      <td>20642.000000</td>\n",
              "      <td>1.960497</td>\n",
              "      <td>9.092123</td>\n",
              "      <td>4.101716</td>\n",
              "      <td>11.927512</td>\n",
              "      <td>34.099309</td>\n",
              "      <td>21.393069</td>\n",
              "      <td>34.303177</td>\n",
              "      <td>5.499963</td>\n",
              "      <td>10.392889</td>\n",
              "      <td>...</td>\n",
              "      <td>22.614889</td>\n",
              "      <td>4.534454</td>\n",
              "      <td>13.876221</td>\n",
              "      <td>3.200201</td>\n",
              "      <td>5.525093</td>\n",
              "      <td>3.517346</td>\n",
              "      <td>8.254376</td>\n",
              "      <td>4.860769</td>\n",
              "      <td>7712.430000</td>\n",
              "      <td>1.000000</td>\n",
              "    </tr>\n",
              "  </tbody>\n",
              "</table>\n",
              "<p>8 rows × 31 columns</p>\n",
              "</div>\n",
              "    <div class=\"colab-df-buttons\">\n",
              "\n",
              "  <div class=\"colab-df-container\">\n",
              "    <button class=\"colab-df-convert\" onclick=\"convertToInteractive('df-1ae139ea-a520-4d91-966a-ce6d26a14167')\"\n",
              "            title=\"Convert this dataframe to an interactive table.\"\n",
              "            style=\"display:none;\">\n",
              "\n",
              "  <svg xmlns=\"http://www.w3.org/2000/svg\" height=\"24px\" viewBox=\"0 -960 960 960\">\n",
              "    <path d=\"M120-120v-720h720v720H120Zm60-500h600v-160H180v160Zm220 220h160v-160H400v160Zm0 220h160v-160H400v160ZM180-400h160v-160H180v160Zm440 0h160v-160H620v160ZM180-180h160v-160H180v160Zm440 0h160v-160H620v160Z\"/>\n",
              "  </svg>\n",
              "    </button>\n",
              "\n",
              "  <style>\n",
              "    .colab-df-container {\n",
              "      display:flex;\n",
              "      gap: 12px;\n",
              "    }\n",
              "\n",
              "    .colab-df-convert {\n",
              "      background-color: #E8F0FE;\n",
              "      border: none;\n",
              "      border-radius: 50%;\n",
              "      cursor: pointer;\n",
              "      display: none;\n",
              "      fill: #1967D2;\n",
              "      height: 32px;\n",
              "      padding: 0 0 0 0;\n",
              "      width: 32px;\n",
              "    }\n",
              "\n",
              "    .colab-df-convert:hover {\n",
              "      background-color: #E2EBFA;\n",
              "      box-shadow: 0px 1px 2px rgba(60, 64, 67, 0.3), 0px 1px 3px 1px rgba(60, 64, 67, 0.15);\n",
              "      fill: #174EA6;\n",
              "    }\n",
              "\n",
              "    .colab-df-buttons div {\n",
              "      margin-bottom: 4px;\n",
              "    }\n",
              "\n",
              "    [theme=dark] .colab-df-convert {\n",
              "      background-color: #3B4455;\n",
              "      fill: #D2E3FC;\n",
              "    }\n",
              "\n",
              "    [theme=dark] .colab-df-convert:hover {\n",
              "      background-color: #434B5C;\n",
              "      box-shadow: 0px 1px 3px 1px rgba(0, 0, 0, 0.15);\n",
              "      filter: drop-shadow(0px 1px 2px rgba(0, 0, 0, 0.3));\n",
              "      fill: #FFFFFF;\n",
              "    }\n",
              "  </style>\n",
              "\n",
              "    <script>\n",
              "      const buttonEl =\n",
              "        document.querySelector('#df-1ae139ea-a520-4d91-966a-ce6d26a14167 button.colab-df-convert');\n",
              "      buttonEl.style.display =\n",
              "        google.colab.kernel.accessAllowed ? 'block' : 'none';\n",
              "\n",
              "      async function convertToInteractive(key) {\n",
              "        const element = document.querySelector('#df-1ae139ea-a520-4d91-966a-ce6d26a14167');\n",
              "        const dataTable =\n",
              "          await google.colab.kernel.invokeFunction('convertToInteractive',\n",
              "                                                    [key], {});\n",
              "        if (!dataTable) return;\n",
              "\n",
              "        const docLinkHtml = 'Like what you see? Visit the ' +\n",
              "          '<a target=\"_blank\" href=https://colab.research.google.com/notebooks/data_table.ipynb>data table notebook</a>'\n",
              "          + ' to learn more about interactive tables.';\n",
              "        element.innerHTML = '';\n",
              "        dataTable['output_type'] = 'display_data';\n",
              "        await google.colab.output.renderOutput(dataTable, element);\n",
              "        const docLink = document.createElement('div');\n",
              "        docLink.innerHTML = docLinkHtml;\n",
              "        element.appendChild(docLink);\n",
              "      }\n",
              "    </script>\n",
              "  </div>\n",
              "\n",
              "\n",
              "<div id=\"df-790ec59f-8ebf-434e-b67f-6106b1d8c0e3\">\n",
              "  <button class=\"colab-df-quickchart\" onclick=\"quickchart('df-790ec59f-8ebf-434e-b67f-6106b1d8c0e3')\"\n",
              "            title=\"Suggest charts\"\n",
              "            style=\"display:none;\">\n",
              "\n",
              "<svg xmlns=\"http://www.w3.org/2000/svg\" height=\"24px\"viewBox=\"0 0 24 24\"\n",
              "     width=\"24px\">\n",
              "    <g>\n",
              "        <path d=\"M19 3H5c-1.1 0-2 .9-2 2v14c0 1.1.9 2 2 2h14c1.1 0 2-.9 2-2V5c0-1.1-.9-2-2-2zM9 17H7v-7h2v7zm4 0h-2V7h2v10zm4 0h-2v-4h2v4z\"/>\n",
              "    </g>\n",
              "</svg>\n",
              "  </button>\n",
              "\n",
              "<style>\n",
              "  .colab-df-quickchart {\n",
              "      --bg-color: #E8F0FE;\n",
              "      --fill-color: #1967D2;\n",
              "      --hover-bg-color: #E2EBFA;\n",
              "      --hover-fill-color: #174EA6;\n",
              "      --disabled-fill-color: #AAA;\n",
              "      --disabled-bg-color: #DDD;\n",
              "  }\n",
              "\n",
              "  [theme=dark] .colab-df-quickchart {\n",
              "      --bg-color: #3B4455;\n",
              "      --fill-color: #D2E3FC;\n",
              "      --hover-bg-color: #434B5C;\n",
              "      --hover-fill-color: #FFFFFF;\n",
              "      --disabled-bg-color: #3B4455;\n",
              "      --disabled-fill-color: #666;\n",
              "  }\n",
              "\n",
              "  .colab-df-quickchart {\n",
              "    background-color: var(--bg-color);\n",
              "    border: none;\n",
              "    border-radius: 50%;\n",
              "    cursor: pointer;\n",
              "    display: none;\n",
              "    fill: var(--fill-color);\n",
              "    height: 32px;\n",
              "    padding: 0;\n",
              "    width: 32px;\n",
              "  }\n",
              "\n",
              "  .colab-df-quickchart:hover {\n",
              "    background-color: var(--hover-bg-color);\n",
              "    box-shadow: 0 1px 2px rgba(60, 64, 67, 0.3), 0 1px 3px 1px rgba(60, 64, 67, 0.15);\n",
              "    fill: var(--button-hover-fill-color);\n",
              "  }\n",
              "\n",
              "  .colab-df-quickchart-complete:disabled,\n",
              "  .colab-df-quickchart-complete:disabled:hover {\n",
              "    background-color: var(--disabled-bg-color);\n",
              "    fill: var(--disabled-fill-color);\n",
              "    box-shadow: none;\n",
              "  }\n",
              "\n",
              "  .colab-df-spinner {\n",
              "    border: 2px solid var(--fill-color);\n",
              "    border-color: transparent;\n",
              "    border-bottom-color: var(--fill-color);\n",
              "    animation:\n",
              "      spin 1s steps(1) infinite;\n",
              "  }\n",
              "\n",
              "  @keyframes spin {\n",
              "    0% {\n",
              "      border-color: transparent;\n",
              "      border-bottom-color: var(--fill-color);\n",
              "      border-left-color: var(--fill-color);\n",
              "    }\n",
              "    20% {\n",
              "      border-color: transparent;\n",
              "      border-left-color: var(--fill-color);\n",
              "      border-top-color: var(--fill-color);\n",
              "    }\n",
              "    30% {\n",
              "      border-color: transparent;\n",
              "      border-left-color: var(--fill-color);\n",
              "      border-top-color: var(--fill-color);\n",
              "      border-right-color: var(--fill-color);\n",
              "    }\n",
              "    40% {\n",
              "      border-color: transparent;\n",
              "      border-right-color: var(--fill-color);\n",
              "      border-top-color: var(--fill-color);\n",
              "    }\n",
              "    60% {\n",
              "      border-color: transparent;\n",
              "      border-right-color: var(--fill-color);\n",
              "    }\n",
              "    80% {\n",
              "      border-color: transparent;\n",
              "      border-right-color: var(--fill-color);\n",
              "      border-bottom-color: var(--fill-color);\n",
              "    }\n",
              "    90% {\n",
              "      border-color: transparent;\n",
              "      border-bottom-color: var(--fill-color);\n",
              "    }\n",
              "  }\n",
              "</style>\n",
              "\n",
              "  <script>\n",
              "    async function quickchart(key) {\n",
              "      const quickchartButtonEl =\n",
              "        document.querySelector('#' + key + ' button');\n",
              "      quickchartButtonEl.disabled = true;  // To prevent multiple clicks.\n",
              "      quickchartButtonEl.classList.add('colab-df-spinner');\n",
              "      try {\n",
              "        const charts = await google.colab.kernel.invokeFunction(\n",
              "            'suggestCharts', [key], {});\n",
              "      } catch (error) {\n",
              "        console.error('Error during call to suggestCharts:', error);\n",
              "      }\n",
              "      quickchartButtonEl.classList.remove('colab-df-spinner');\n",
              "      quickchartButtonEl.classList.add('colab-df-quickchart-complete');\n",
              "    }\n",
              "    (() => {\n",
              "      let quickchartButtonEl =\n",
              "        document.querySelector('#df-790ec59f-8ebf-434e-b67f-6106b1d8c0e3 button');\n",
              "      quickchartButtonEl.style.display =\n",
              "        google.colab.kernel.accessAllowed ? 'block' : 'none';\n",
              "    })();\n",
              "  </script>\n",
              "</div>\n",
              "\n",
              "    </div>\n",
              "  </div>\n"
            ]
          },
          "metadata": {},
          "execution_count": 24
        }
      ]
    },
    {
      "cell_type": "markdown",
      "source": [
        "Data cleaning\n",
        "---"
      ],
      "metadata": {
        "id": "g637sNquLevt"
      }
    },
    {
      "cell_type": "code",
      "source": [
        "# Check for missing values in the dataset\n",
        "df.isnull().sum()"
      ],
      "metadata": {
        "colab": {
          "base_uri": "https://localhost:8080/"
        },
        "id": "JuZCeCSfK8dv",
        "outputId": "779580e6-b4e5-404a-e78d-dd62ae0e23df"
      },
      "execution_count": 20,
      "outputs": [
        {
          "output_type": "execute_result",
          "data": {
            "text/plain": [
              "Time      0\n",
              "V1        0\n",
              "V2        0\n",
              "V3        0\n",
              "V4        0\n",
              "V5        0\n",
              "V6        0\n",
              "V7        0\n",
              "V8        0\n",
              "V9        0\n",
              "V10       0\n",
              "V11       0\n",
              "V12       0\n",
              "V13       0\n",
              "V14       0\n",
              "V15       0\n",
              "V16       0\n",
              "V17       0\n",
              "V18       0\n",
              "V19       0\n",
              "V20       1\n",
              "V21       1\n",
              "V22       1\n",
              "V23       1\n",
              "V24       1\n",
              "V25       1\n",
              "V26       1\n",
              "V27       1\n",
              "V28       1\n",
              "Amount    1\n",
              "Class     1\n",
              "dtype: int64"
            ]
          },
          "metadata": {},
          "execution_count": 20
        }
      ]
    },
    {
      "cell_type": "code",
      "source": [
        "# Display information about the dataset\n",
        "df.info()"
      ],
      "metadata": {
        "colab": {
          "base_uri": "https://localhost:8080/"
        },
        "id": "7I3K0b-pLCiy",
        "outputId": "d62ee217-5f86-4533-e142-741e48c42b18"
      },
      "execution_count": 22,
      "outputs": [
        {
          "output_type": "stream",
          "name": "stdout",
          "text": [
            "<class 'pandas.core.frame.DataFrame'>\n",
            "RangeIndex: 11959 entries, 0 to 11958\n",
            "Data columns (total 31 columns):\n",
            " #   Column  Non-Null Count  Dtype  \n",
            "---  ------  --------------  -----  \n",
            " 0   Time    11959 non-null  int64  \n",
            " 1   V1      11959 non-null  float64\n",
            " 2   V2      11959 non-null  float64\n",
            " 3   V3      11959 non-null  float64\n",
            " 4   V4      11959 non-null  float64\n",
            " 5   V5      11959 non-null  float64\n",
            " 6   V6      11959 non-null  float64\n",
            " 7   V7      11959 non-null  float64\n",
            " 8   V8      11959 non-null  float64\n",
            " 9   V9      11959 non-null  float64\n",
            " 10  V10     11959 non-null  float64\n",
            " 11  V11     11959 non-null  float64\n",
            " 12  V12     11959 non-null  float64\n",
            " 13  V13     11959 non-null  float64\n",
            " 14  V14     11959 non-null  float64\n",
            " 15  V15     11959 non-null  float64\n",
            " 16  V16     11959 non-null  float64\n",
            " 17  V17     11959 non-null  float64\n",
            " 18  V18     11959 non-null  float64\n",
            " 19  V19     11959 non-null  float64\n",
            " 20  V20     11958 non-null  float64\n",
            " 21  V21     11958 non-null  float64\n",
            " 22  V22     11958 non-null  float64\n",
            " 23  V23     11958 non-null  float64\n",
            " 24  V24     11958 non-null  float64\n",
            " 25  V25     11958 non-null  float64\n",
            " 26  V26     11958 non-null  float64\n",
            " 27  V27     11958 non-null  float64\n",
            " 28  V28     11958 non-null  float64\n",
            " 29  Amount  11958 non-null  float64\n",
            " 30  Class   11958 non-null  float64\n",
            "dtypes: float64(30), int64(1)\n",
            "memory usage: 2.8 MB\n"
          ]
        }
      ]
    },
    {
      "cell_type": "code",
      "source": [
        "# Display the count of each class in the 'Class' column\n",
        "df['Class'].value_counts()"
      ],
      "metadata": {
        "colab": {
          "base_uri": "https://localhost:8080/"
        },
        "id": "pBZ3qL-NLFHp",
        "outputId": "7efb2f03-210a-4597-ee17-4755f540919b"
      },
      "execution_count": 23,
      "outputs": [
        {
          "output_type": "execute_result",
          "data": {
            "text/plain": [
              "0.0    11906\n",
              "1.0       52\n",
              "Name: Class, dtype: int64"
            ]
          },
          "metadata": {},
          "execution_count": 23
        }
      ]
    },
    {
      "cell_type": "code",
      "source": [
        "# Check if there are any missing values in the DataFrame\n",
        "df.isna().any()"
      ],
      "metadata": {
        "colab": {
          "base_uri": "https://localhost:8080/"
        },
        "id": "dPs15tP1LIix",
        "outputId": "723a8114-2beb-4823-8e6a-8dd006a94138"
      },
      "execution_count": 25,
      "outputs": [
        {
          "output_type": "execute_result",
          "data": {
            "text/plain": [
              "Time      False\n",
              "V1        False\n",
              "V2        False\n",
              "V3        False\n",
              "V4        False\n",
              "V5        False\n",
              "V6        False\n",
              "V7        False\n",
              "V8        False\n",
              "V9        False\n",
              "V10       False\n",
              "V11       False\n",
              "V12       False\n",
              "V13       False\n",
              "V14       False\n",
              "V15       False\n",
              "V16       False\n",
              "V17       False\n",
              "V18       False\n",
              "V19       False\n",
              "V20        True\n",
              "V21        True\n",
              "V22        True\n",
              "V23        True\n",
              "V24        True\n",
              "V25        True\n",
              "V26        True\n",
              "V27        True\n",
              "V28        True\n",
              "Amount     True\n",
              "Class      True\n",
              "dtype: bool"
            ]
          },
          "metadata": {},
          "execution_count": 25
        }
      ]
    },
    {
      "cell_type": "code",
      "source": [
        "# Display the columns present in the DataFrame\n",
        "df.columns"
      ],
      "metadata": {
        "colab": {
          "base_uri": "https://localhost:8080/"
        },
        "id": "VDmHQT5bLI9a",
        "outputId": "c3ed458c-ff12-4b4a-a77a-f2b43c6b9d91"
      },
      "execution_count": 26,
      "outputs": [
        {
          "output_type": "execute_result",
          "data": {
            "text/plain": [
              "Index(['Time', 'V1', 'V2', 'V3', 'V4', 'V5', 'V6', 'V7', 'V8', 'V9', 'V10',\n",
              "       'V11', 'V12', 'V13', 'V14', 'V15', 'V16', 'V17', 'V18', 'V19', 'V20',\n",
              "       'V21', 'V22', 'V23', 'V24', 'V25', 'V26', 'V27', 'V28', 'Amount',\n",
              "       'Class'],\n",
              "      dtype='object')"
            ]
          },
          "metadata": {},
          "execution_count": 26
        }
      ]
    },
    {
      "cell_type": "code",
      "source": [
        "# Separate the fraud and non-fraud transactions\n",
        "non_fraud = df[df['Class']==0]\n",
        "fraud = df[df['Class']==1]"
      ],
      "metadata": {
        "id": "TEsTxrM7MGhn"
      },
      "execution_count": 27,
      "outputs": []
    },
    {
      "cell_type": "code",
      "source": [
        "# Sample the non-fraud transactions to match the number of fraud transactions\n",
        "non_fraud = non_fraud.sample(fraud.shape[0])"
      ],
      "metadata": {
        "id": "Q9nylnobML5Q"
      },
      "execution_count": 28,
      "outputs": []
    },
    {
      "cell_type": "code",
      "source": [
        "# Combine fraud and sampled non-fraud transactions\n",
        "df = fraud.append(non_fraud, ignore_index=True)"
      ],
      "metadata": {
        "colab": {
          "base_uri": "https://localhost:8080/"
        },
        "id": "VF1cZeV7MO2N",
        "outputId": "cbf54df7-6d97-4d03-f9a5-dceef047db20"
      },
      "execution_count": 29,
      "outputs": [
        {
          "output_type": "stream",
          "name": "stderr",
          "text": [
            "<ipython-input-29-90853c0e64ef>:2: FutureWarning: The frame.append method is deprecated and will be removed from pandas in a future version. Use pandas.concat instead.\n",
            "  df = fraud.append(non_fraud, ignore_index=True)\n"
          ]
        }
      ]
    },
    {
      "cell_type": "code",
      "source": [
        "# Display the count of each class after sampling\n",
        "df['Class'].value_counts()"
      ],
      "metadata": {
        "colab": {
          "base_uri": "https://localhost:8080/"
        },
        "id": "82q6vgi5MSQm",
        "outputId": "8504bba4-d09b-4395-b8ea-8ce6f2397163"
      },
      "execution_count": 30,
      "outputs": [
        {
          "output_type": "execute_result",
          "data": {
            "text/plain": [
              "1.0    52\n",
              "0.0    52\n",
              "Name: Class, dtype: int64"
            ]
          },
          "metadata": {},
          "execution_count": 30
        }
      ]
    },
    {
      "cell_type": "code",
      "source": [
        "# Separate features (X) and target variable (y)\n",
        "X = df.drop('Class', axis=1)\n",
        "y = df['Class']"
      ],
      "metadata": {
        "id": "0GBrKHouMSS2"
      },
      "execution_count": 31,
      "outputs": []
    },
    {
      "cell_type": "code",
      "source": [
        "# Split the data into training and testing sets\n",
        "X_train, X_test, y_train, y_test = train_test_split(X, y, test_size=0.2, random_state=0, stratify=y)"
      ],
      "metadata": {
        "id": "xvohRgQ1MXG4"
      },
      "execution_count": 32,
      "outputs": []
    },
    {
      "cell_type": "code",
      "source": [
        "# Display the shapes of the training and testing sets\n",
        "X_train.shape, X_test.shape"
      ],
      "metadata": {
        "colab": {
          "base_uri": "https://localhost:8080/"
        },
        "id": "j8Y0d6GrMXJD",
        "outputId": "e8ab8417-3657-46a5-a531-6b3c3e85f218"
      },
      "execution_count": 33,
      "outputs": [
        {
          "output_type": "execute_result",
          "data": {
            "text/plain": [
              "((83, 30), (21, 30))"
            ]
          },
          "metadata": {},
          "execution_count": 33
        }
      ]
    },
    {
      "cell_type": "code",
      "source": [
        "# Standardize the features using StandardScaler\n",
        "scaler = StandardScaler()\n",
        "X_train = scaler.fit_transform(X_train)\n",
        "X_test = scaler.transform(X_test)"
      ],
      "metadata": {
        "id": "kgo_3UjoMbx4"
      },
      "execution_count": 34,
      "outputs": []
    },
    {
      "cell_type": "code",
      "source": [
        "# Convert target variables to numpy arrays\n",
        "y_train = y_train.to_numpy()\n",
        "y_test = y_test.to_numpy()"
      ],
      "metadata": {
        "id": "WSqHcWSnMb0K"
      },
      "execution_count": 35,
      "outputs": []
    },
    {
      "cell_type": "code",
      "source": [
        "# Reshape the input features for compatibility with Conv1D\n",
        "X_train = X_train.reshape(X_train.shape[0], X_train.shape[1], 1)\n",
        "X_test = X_test.reshape(X_test.shape[0], X_test.shape[1], 1)"
      ],
      "metadata": {
        "id": "i-YLFbGGMfk-"
      },
      "execution_count": 36,
      "outputs": []
    },
    {
      "cell_type": "code",
      "source": [
        "# Display the shapes after reshaping\n",
        "X_train.shape, X_test.shape"
      ],
      "metadata": {
        "colab": {
          "base_uri": "https://localhost:8080/"
        },
        "id": "pqZVgC2DMfnX",
        "outputId": "f69c8664-99c4-4f1b-faf0-1a5858a3d624"
      },
      "execution_count": 37,
      "outputs": [
        {
          "output_type": "execute_result",
          "data": {
            "text/plain": [
              "((83, 30, 1), (21, 30, 1))"
            ]
          },
          "metadata": {},
          "execution_count": 37
        }
      ]
    },
    {
      "cell_type": "markdown",
      "source": [
        "Build the CNN model\n",
        "---"
      ],
      "metadata": {
        "id": "qod9qahBMxS0"
      }
    },
    {
      "cell_type": "code",
      "source": [
        "# Build the CNN model\n",
        "model = Sequential()\n",
        "model.add(Conv1D(32, 2, activation='relu', input_shape=X_train[0].shape))\n",
        "model.add(BatchNormalization())\n",
        "model.add(Dropout(0.2))\n",
        "\n",
        "model.add(Conv1D(64, 2, activation='relu'))\n",
        "model.add(BatchNormalization())\n",
        "model.add(Dropout(0.5))\n",
        "\n",
        "model.add(Flatten())\n",
        "model.add(Dense(64, activation='relu'))\n",
        "model.add(Dropout(0.5))\n",
        "\n",
        "model.add(Dense(1, activation='sigmoid'))"
      ],
      "metadata": {
        "id": "i-wy0E9cMfpj"
      },
      "execution_count": 38,
      "outputs": []
    },
    {
      "cell_type": "code",
      "source": [
        "# Set the number of epochs\n",
        "epochs = 20"
      ],
      "metadata": {
        "id": "oCkwmVZ3M8Q5"
      },
      "execution_count": 39,
      "outputs": []
    },
    {
      "cell_type": "code",
      "source": [
        "# Display the model summary\n",
        "model.summary()"
      ],
      "metadata": {
        "colab": {
          "base_uri": "https://localhost:8080/"
        },
        "id": "F2KRR1vQM-3x",
        "outputId": "ba332d9a-2956-4db6-8997-ca6b6aed3666"
      },
      "execution_count": 40,
      "outputs": [
        {
          "output_type": "stream",
          "name": "stdout",
          "text": [
            "Model: \"sequential\"\n",
            "_________________________________________________________________\n",
            " Layer (type)                Output Shape              Param #   \n",
            "=================================================================\n",
            " conv1d (Conv1D)             (None, 29, 32)            96        \n",
            "                                                                 \n",
            " batch_normalization (Batch  (None, 29, 32)            128       \n",
            " Normalization)                                                  \n",
            "                                                                 \n",
            " dropout (Dropout)           (None, 29, 32)            0         \n",
            "                                                                 \n",
            " conv1d_1 (Conv1D)           (None, 28, 64)            4160      \n",
            "                                                                 \n",
            " batch_normalization_1 (Bat  (None, 28, 64)            256       \n",
            " chNormalization)                                                \n",
            "                                                                 \n",
            " dropout_1 (Dropout)         (None, 28, 64)            0         \n",
            "                                                                 \n",
            " flatten (Flatten)           (None, 1792)              0         \n",
            "                                                                 \n",
            " dense (Dense)               (None, 64)                114752    \n",
            "                                                                 \n",
            " dropout_2 (Dropout)         (None, 64)                0         \n",
            "                                                                 \n",
            " dense_1 (Dense)             (None, 1)                 65        \n",
            "                                                                 \n",
            "=================================================================\n",
            "Total params: 119457 (466.63 KB)\n",
            "Trainable params: 119265 (465.88 KB)\n",
            "Non-trainable params: 192 (768.00 Byte)\n",
            "_________________________________________________________________\n"
          ]
        }
      ]
    },
    {
      "cell_type": "code",
      "source": [
        "# Compile the model\n",
        "model.compile(optimizer=Adam(lr=0.0001), loss='binary_crossentropy', metrics=['accuracy'])"
      ],
      "metadata": {
        "colab": {
          "base_uri": "https://localhost:8080/"
        },
        "id": "87HlN0vCM--Z",
        "outputId": "07985fac-d3e5-4fcd-8f37-095d121465e6"
      },
      "execution_count": 41,
      "outputs": [
        {
          "output_type": "stream",
          "name": "stderr",
          "text": [
            "WARNING:absl:`lr` is deprecated in Keras optimizer, please use `learning_rate` or use the legacy optimizer, e.g.,tf.keras.optimizers.legacy.Adam.\n"
          ]
        }
      ]
    },
    {
      "cell_type": "code",
      "source": [
        "# Train the model\n",
        "history = model.fit(X_train, y_train, epochs=epochs, validation_data=(X_test, y_test), verbose=1)"
      ],
      "metadata": {
        "colab": {
          "base_uri": "https://localhost:8080/"
        },
        "id": "I3p-ftBTNELN",
        "outputId": "acb448fa-e6b0-47ed-82d6-832a02916ebd"
      },
      "execution_count": 42,
      "outputs": [
        {
          "output_type": "stream",
          "name": "stdout",
          "text": [
            "Epoch 1/20\n",
            "3/3 [==============================] - 2s 169ms/step - loss: 1.2202 - accuracy: 0.5663 - val_loss: 0.5695 - val_accuracy: 0.8095\n",
            "Epoch 2/20\n",
            "3/3 [==============================] - 0s 26ms/step - loss: 0.2642 - accuracy: 0.8795 - val_loss: 0.5072 - val_accuracy: 0.8095\n",
            "Epoch 3/20\n",
            "3/3 [==============================] - 0s 24ms/step - loss: 0.2710 - accuracy: 0.9277 - val_loss: 0.4715 - val_accuracy: 0.8095\n",
            "Epoch 4/20\n",
            "3/3 [==============================] - 0s 25ms/step - loss: 0.1534 - accuracy: 0.9518 - val_loss: 0.4509 - val_accuracy: 0.8095\n",
            "Epoch 5/20\n",
            "3/3 [==============================] - 0s 25ms/step - loss: 0.1680 - accuracy: 0.9639 - val_loss: 0.4383 - val_accuracy: 0.8571\n",
            "Epoch 6/20\n",
            "3/3 [==============================] - 0s 33ms/step - loss: 0.1316 - accuracy: 0.9639 - val_loss: 0.4359 - val_accuracy: 0.9048\n",
            "Epoch 7/20\n",
            "3/3 [==============================] - 0s 32ms/step - loss: 0.1175 - accuracy: 0.9639 - val_loss: 0.4415 - val_accuracy: 0.9048\n",
            "Epoch 8/20\n",
            "3/3 [==============================] - 0s 24ms/step - loss: 0.0802 - accuracy: 0.9759 - val_loss: 0.4469 - val_accuracy: 0.9524\n",
            "Epoch 9/20\n",
            "3/3 [==============================] - 0s 32ms/step - loss: 0.0342 - accuracy: 0.9759 - val_loss: 0.4573 - val_accuracy: 0.9524\n",
            "Epoch 10/20\n",
            "3/3 [==============================] - 0s 26ms/step - loss: 0.0383 - accuracy: 0.9880 - val_loss: 0.4682 - val_accuracy: 0.7619\n",
            "Epoch 11/20\n",
            "3/3 [==============================] - 0s 28ms/step - loss: 0.0672 - accuracy: 0.9880 - val_loss: 0.4794 - val_accuracy: 0.6667\n",
            "Epoch 12/20\n",
            "3/3 [==============================] - 0s 24ms/step - loss: 0.0512 - accuracy: 0.9759 - val_loss: 0.4911 - val_accuracy: 0.6667\n",
            "Epoch 13/20\n",
            "3/3 [==============================] - 0s 33ms/step - loss: 0.0338 - accuracy: 0.9880 - val_loss: 0.5013 - val_accuracy: 0.6190\n",
            "Epoch 14/20\n",
            "3/3 [==============================] - 0s 32ms/step - loss: 0.0436 - accuracy: 0.9759 - val_loss: 0.5139 - val_accuracy: 0.5238\n",
            "Epoch 15/20\n",
            "3/3 [==============================] - 0s 31ms/step - loss: 0.0220 - accuracy: 1.0000 - val_loss: 0.5245 - val_accuracy: 0.5238\n",
            "Epoch 16/20\n",
            "3/3 [==============================] - 0s 24ms/step - loss: 0.0245 - accuracy: 1.0000 - val_loss: 0.5305 - val_accuracy: 0.5238\n",
            "Epoch 17/20\n",
            "3/3 [==============================] - 0s 32ms/step - loss: 0.0392 - accuracy: 0.9880 - val_loss: 0.5360 - val_accuracy: 0.4762\n",
            "Epoch 18/20\n",
            "3/3 [==============================] - 0s 24ms/step - loss: 0.0411 - accuracy: 0.9759 - val_loss: 0.5417 - val_accuracy: 0.4762\n",
            "Epoch 19/20\n",
            "3/3 [==============================] - 0s 26ms/step - loss: 0.0306 - accuracy: 0.9880 - val_loss: 0.5455 - val_accuracy: 0.4762\n",
            "Epoch 20/20\n",
            "3/3 [==============================] - 0s 35ms/step - loss: 0.0306 - accuracy: 0.9880 - val_loss: 0.5433 - val_accuracy: 0.4762\n"
          ]
        }
      ]
    },
    {
      "cell_type": "markdown",
      "source": [
        "Plot the learning curve\n",
        "---"
      ],
      "metadata": {
        "id": "IlIFeaqFNKiq"
      }
    },
    {
      "cell_type": "code",
      "source": [
        "def plot_learningCurve(history, epoch):\n",
        "    # Plot training & validation accuracy values\n",
        "    epoch_range = range(1, epoch+1)\n",
        "    plt.plot(epoch_range, history.history['accuracy'])\n",
        "    plt.plot(epoch_range, history.history['val_accuracy'])\n",
        "    plt.title('Model accuracy')\n",
        "    plt.ylabel('Accuracy')\n",
        "    plt.xlabel('Epoch')\n",
        "    plt.legend(['Train', 'Val'], loc='upper left')\n",
        "    plt.show()\n",
        "\n",
        "    # Plot training & validation loss values\n",
        "    plt.plot(epoch_range, history.history['loss'])\n",
        "    plt.plot(epoch_range, history.history['val_loss'])\n",
        "    plt.title('Model loss')\n",
        "    plt.ylabel('Loss')\n",
        "    plt.xlabel('Epoch')\n",
        "    plt.legend(['Train', 'Val'], loc='upper left')\n",
        "    plt.show()\n",
        "\n"
      ],
      "metadata": {
        "id": "JhqGNqDbNEN6"
      },
      "execution_count": 45,
      "outputs": []
    },
    {
      "cell_type": "code",
      "source": [
        "# Call the function to plot the learning curve\n",
        "plot_learningCurve(history, epochs)\n"
      ],
      "metadata": {
        "colab": {
          "base_uri": "https://localhost:8080/",
          "height": 927
        },
        "id": "BzmrfA_PNEPp",
        "outputId": "c87f226f-8c6a-4f6f-9856-72ef233b98d6"
      },
      "execution_count": 49,
      "outputs": [
        {
          "output_type": "display_data",
          "data": {
            "text/plain": [
              "<Figure size 640x480 with 1 Axes>"
            ],
            "image/png": "[encoded data removed]"
          },
          "metadata": {}
        },
        {
          "output_type": "display_data",
          "data": {
            "text/plain": [
              "<Figure size 640x480 with 1 Axes>"
            ],
            "image/png": "[encoded data removed]"
          },
          "metadata": {}
        }
      ]
    },
    {
      "cell_type": "code",
      "source": [
        "\"\"\"Adding MaxPooling layers\n",
        "Set the number of epochs/\"\"\"\n",
        "epochs = 50"
      ],
      "metadata": {
        "id": "2m2TbqUKNR_1"
      },
      "execution_count": null,
      "outputs": []
    },
    {
      "cell_type": "code",
      "source": [
        "# Build the CNN model with MaxPooling layers\n",
        "model = Sequential()\n",
        "model.add(Conv1D(32, 2, activation='relu', input_shape=X_train[0].shape))\n",
        "model.add(BatchNormalization())\n",
        "model.add(MaxPool1D(2))  # Adding MaxPooling layer\n",
        "model.add(Dropout(0.2))\n",
        "\n",
        "model.add(Conv1D(64, 2, activation='relu'))\n",
        "model.add(BatchNormalization())\n",
        "model.add(MaxPool1D(2))  # Adding MaxPooling layer\n",
        "model.add(Dropout(0.5))\n",
        "\n",
        "model.add(Flatten())\n",
        "model.add(Dense(64, activation='relu'))\n",
        "model.add(Dropout(0.5))\n",
        "\n",
        "model.add(Dense(1, activation='sigmoid'))\n",
        "\n",
        "# Compile the model\n",
        "model.compile(optimizer=Adam(lr=0.0001), loss='binary_crossentropy', metrics=['accuracy'])\n",
        "\n",
        "# Train the model\n",
        "history = model.fit(X_train, y_train, epochs=epochs, validation_data=(X_test, y_test), verbose=1)\n",
        "\n",
        "# Plot the learning curve\n",
        "plot_learningCurve(history, epochs)"
      ],
      "metadata": {
        "colab": {
          "base_uri": "https://localhost:8080/",
          "height": 1000
        },
        "id": "meC7pk6MN3JJ",
        "outputId": "92b21fd1-5487-4c0a-a411-9c2d9e2e8995"
      },
      "execution_count": 56,
      "outputs": [
        {
          "output_type": "stream",
          "name": "stderr",
          "text": [
            "WARNING:absl:`lr` is deprecated in Keras optimizer, please use `learning_rate` or use the legacy optimizer, e.g.,tf.keras.optimizers.legacy.Adam.\n"
          ]
        },
        {
          "output_type": "stream",
          "name": "stdout",
          "text": [
            "Epoch 1/20\n",
            "3/3 [==============================] - 2s 141ms/step - loss: 1.7999 - accuracy: 0.4337 - val_loss: 0.6780 - val_accuracy: 0.4762\n",
            "Epoch 2/20\n",
            "3/3 [==============================] - 0s 24ms/step - loss: 0.7557 - accuracy: 0.7229 - val_loss: 0.6525 - val_accuracy: 0.4762\n",
            "Epoch 3/20\n",
            "3/3 [==============================] - 0s 23ms/step - loss: 0.7757 - accuracy: 0.6867 - val_loss: 0.6266 - val_accuracy: 0.7143\n",
            "Epoch 4/20\n",
            "3/3 [==============================] - 0s 32ms/step - loss: 0.2898 - accuracy: 0.8675 - val_loss: 0.6020 - val_accuracy: 0.9048\n",
            "Epoch 5/20\n",
            "3/3 [==============================] - 0s 24ms/step - loss: 0.3082 - accuracy: 0.8434 - val_loss: 0.5807 - val_accuracy: 0.8571\n",
            "Epoch 6/20\n",
            "3/3 [==============================] - 0s 26ms/step - loss: 0.2608 - accuracy: 0.8675 - val_loss: 0.5631 - val_accuracy: 0.8571\n",
            "Epoch 7/20\n",
            "3/3 [==============================] - 0s 34ms/step - loss: 0.2625 - accuracy: 0.8916 - val_loss: 0.5467 - val_accuracy: 0.8571\n",
            "Epoch 8/20\n",
            "3/3 [==============================] - 0s 23ms/step - loss: 0.2011 - accuracy: 0.9157 - val_loss: 0.5327 - val_accuracy: 0.8571\n",
            "Epoch 9/20\n",
            "3/3 [==============================] - 0s 23ms/step - loss: 0.1964 - accuracy: 0.9398 - val_loss: 0.5216 - val_accuracy: 0.8571\n",
            "Epoch 10/20\n",
            "3/3 [==============================] - 0s 23ms/step - loss: 0.1221 - accuracy: 0.9518 - val_loss: 0.5123 - val_accuracy: 0.8571\n",
            "Epoch 11/20\n",
            "3/3 [==============================] - 0s 32ms/step - loss: 0.2080 - accuracy: 0.9398 - val_loss: 0.5042 - val_accuracy: 0.8571\n",
            "Epoch 12/20\n",
            "3/3 [==============================] - 0s 32ms/step - loss: 0.0977 - accuracy: 0.9639 - val_loss: 0.4965 - val_accuracy: 0.8571\n",
            "Epoch 13/20\n",
            "3/3 [==============================] - 0s 35ms/step - loss: 0.1591 - accuracy: 0.9518 - val_loss: 0.4888 - val_accuracy: 0.8571\n",
            "Epoch 14/20\n",
            "3/3 [==============================] - 0s 25ms/step - loss: 0.0706 - accuracy: 0.9880 - val_loss: 0.4812 - val_accuracy: 0.8571\n",
            "Epoch 15/20\n",
            "3/3 [==============================] - 0s 23ms/step - loss: 0.0697 - accuracy: 0.9759 - val_loss: 0.4734 - val_accuracy: 0.8571\n",
            "Epoch 16/20\n",
            "3/3 [==============================] - 0s 31ms/step - loss: 0.1346 - accuracy: 0.9398 - val_loss: 0.4663 - val_accuracy: 0.8571\n",
            "Epoch 17/20\n",
            "3/3 [==============================] - 0s 33ms/step - loss: 0.1316 - accuracy: 0.9639 - val_loss: 0.4602 - val_accuracy: 0.8571\n",
            "Epoch 18/20\n",
            "3/3 [==============================] - 0s 24ms/step - loss: 0.1623 - accuracy: 0.9518 - val_loss: 0.4540 - val_accuracy: 0.8571\n",
            "Epoch 19/20\n",
            "3/3 [==============================] - 0s 36ms/step - loss: 0.0897 - accuracy: 0.9639 - val_loss: 0.4475 - val_accuracy: 0.8571\n",
            "Epoch 20/20\n",
            "3/3 [==============================] - 0s 29ms/step - loss: 0.0742 - accuracy: 0.9759 - val_loss: 0.4410 - val_accuracy: 0.8571\n"
          ]
        },
        {
          "output_type": "display_data",
          "data": {
            "text/plain": [
              "<Figure size 640x480 with 1 Axes>"
            ],
            "image/png": "[encoded data removed]"
          },
          "metadata": {}
        },
        {
          "output_type": "display_data",
          "data": {
            "text/plain": [
              "<Figure size 640x480 with 1 Axes>"
            ],
            "image/png": "[encoded data removed]"
          },
          "metadata": {}
        }
      ]
    }
  ]
}